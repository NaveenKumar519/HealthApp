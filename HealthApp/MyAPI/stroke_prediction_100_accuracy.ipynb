{
 "cells": [
  {
   "cell_type": "code",
   "execution_count": 1,
   "metadata": {
    "colab": {
     "base_uri": "https://localhost:8080/"
    },
    "execution": {
     "iopub.execute_input": "2022-09-02T09:19:10.689266Z",
     "iopub.status.busy": "2022-09-02T09:19:10.688895Z",
     "iopub.status.idle": "2022-09-02T09:19:12.156425Z",
     "shell.execute_reply": "2022-09-02T09:19:12.155422Z",
     "shell.execute_reply.started": "2022-09-02T09:19:10.689236Z"
    },
    "id": "KzbFAjUv19-e",
    "outputId": "f26bd921-2bb7-4843-87f2-6f2583ecb448"
   },
   "outputs": [],
   "source": [
    "#!pip install catboost"
   ]
  },
  {
   "cell_type": "code",
   "execution_count": 2,
   "metadata": {
    "colab": {
     "base_uri": "https://localhost:8080/"
    },
    "id": "ylyn9X5P2xdR",
    "outputId": "a1ce112f-0c6d-4ac9-d6d4-88efff41491d"
   },
   "outputs": [],
   "source": [
    "#!pip install scikit-plot\n",
    "#!pip install seaborn\n",
    "#!pip install sklearn\n",
    "#!pip install scikit-learn"
   ]
  },
  {
   "cell_type": "code",
   "execution_count": 3,
   "metadata": {},
   "outputs": [],
   "source": [
    "#!pip install imblearn"
   ]
  },
  {
   "cell_type": "code",
   "execution_count": 4,
   "metadata": {
    "id": "oNqK6QL82hFt",
    "scrolled": true
   },
   "outputs": [],
   "source": [
    "import pandas as pd\n",
    "import numpy as np\n",
    "import matplotlib.pyplot as plt\n",
    "import seaborn as sns\n",
    "import multiprocessing\n",
    "sns.set()\n",
    "sns.set_context('notebook', font_scale= 1.2)\n",
    "\n",
    "pd.set_option('display.max_rows', 50)\n",
    "pd.set_option('display.max_columns', 50)\n",
    "\n",
    "from sklearn.neighbors import KNeighborsRegressor\n",
    "from sklearn.preprocessing import StandardScaler\n",
    "from sklearn.model_selection import train_test_split, RandomizedSearchCV\n",
    "from sklearn.neighbors import KNeighborsClassifier\n",
    "from sklearn.svm import SVC\n",
    "from sklearn.ensemble import RandomForestClassifier\n",
    "\n",
    "\n",
    "\n",
    "from sklearn.metrics import accuracy_score, roc_auc_score, roc_curve, classification_report\n",
    "import scikitplot as skplt\n",
    "\n",
    "from imblearn.over_sampling import RandomOverSampler"
   ]
  },
  {
   "cell_type": "code",
   "execution_count": 5,
   "metadata": {
    "colab": {
     "base_uri": "https://localhost:8080/",
     "height": 206
    },
    "execution": {
     "iopub.execute_input": "2022-09-02T09:19:12.158481Z",
     "iopub.status.busy": "2022-09-02T09:19:12.158017Z",
     "iopub.status.idle": "2022-09-02T09:19:12.211364Z",
     "shell.execute_reply": "2022-09-02T09:19:12.210148Z",
     "shell.execute_reply.started": "2022-09-02T09:19:12.158422Z"
    },
    "id": "1YesZpLq19-l",
    "outputId": "3b78a976-f239-476a-a156-6b31020f0cbe"
   },
   "outputs": [
    {
     "data": {
      "text/html": [
       "<div>\n",
       "<style scoped>\n",
       "    .dataframe tbody tr th:only-of-type {\n",
       "        vertical-align: middle;\n",
       "    }\n",
       "\n",
       "    .dataframe tbody tr th {\n",
       "        vertical-align: top;\n",
       "    }\n",
       "\n",
       "    .dataframe thead th {\n",
       "        text-align: right;\n",
       "    }\n",
       "</style>\n",
       "<table border=\"1\" class=\"dataframe\">\n",
       "  <thead>\n",
       "    <tr style=\"text-align: right;\">\n",
       "      <th></th>\n",
       "      <th>id</th>\n",
       "      <th>gender</th>\n",
       "      <th>age</th>\n",
       "      <th>hypertension</th>\n",
       "      <th>heart_disease</th>\n",
       "      <th>ever_married</th>\n",
       "      <th>work_type</th>\n",
       "      <th>Residence_type</th>\n",
       "      <th>avg_glucose_level</th>\n",
       "      <th>bmi</th>\n",
       "      <th>smoking_status</th>\n",
       "      <th>stroke</th>\n",
       "    </tr>\n",
       "  </thead>\n",
       "  <tbody>\n",
       "    <tr>\n",
       "      <th>0</th>\n",
       "      <td>9046</td>\n",
       "      <td>Male</td>\n",
       "      <td>67.0</td>\n",
       "      <td>0</td>\n",
       "      <td>1</td>\n",
       "      <td>Yes</td>\n",
       "      <td>Private</td>\n",
       "      <td>Urban</td>\n",
       "      <td>228.69</td>\n",
       "      <td>36.6</td>\n",
       "      <td>formerly smoked</td>\n",
       "      <td>1</td>\n",
       "    </tr>\n",
       "    <tr>\n",
       "      <th>1</th>\n",
       "      <td>51676</td>\n",
       "      <td>Female</td>\n",
       "      <td>61.0</td>\n",
       "      <td>0</td>\n",
       "      <td>0</td>\n",
       "      <td>Yes</td>\n",
       "      <td>Self-employed</td>\n",
       "      <td>Rural</td>\n",
       "      <td>202.21</td>\n",
       "      <td>NaN</td>\n",
       "      <td>never smoked</td>\n",
       "      <td>1</td>\n",
       "    </tr>\n",
       "    <tr>\n",
       "      <th>2</th>\n",
       "      <td>31112</td>\n",
       "      <td>Male</td>\n",
       "      <td>80.0</td>\n",
       "      <td>0</td>\n",
       "      <td>1</td>\n",
       "      <td>Yes</td>\n",
       "      <td>Private</td>\n",
       "      <td>Rural</td>\n",
       "      <td>105.92</td>\n",
       "      <td>32.5</td>\n",
       "      <td>never smoked</td>\n",
       "      <td>1</td>\n",
       "    </tr>\n",
       "    <tr>\n",
       "      <th>3</th>\n",
       "      <td>60182</td>\n",
       "      <td>Female</td>\n",
       "      <td>49.0</td>\n",
       "      <td>0</td>\n",
       "      <td>0</td>\n",
       "      <td>Yes</td>\n",
       "      <td>Private</td>\n",
       "      <td>Urban</td>\n",
       "      <td>171.23</td>\n",
       "      <td>34.4</td>\n",
       "      <td>smokes</td>\n",
       "      <td>1</td>\n",
       "    </tr>\n",
       "    <tr>\n",
       "      <th>4</th>\n",
       "      <td>1665</td>\n",
       "      <td>Female</td>\n",
       "      <td>79.0</td>\n",
       "      <td>1</td>\n",
       "      <td>0</td>\n",
       "      <td>Yes</td>\n",
       "      <td>Self-employed</td>\n",
       "      <td>Rural</td>\n",
       "      <td>174.12</td>\n",
       "      <td>24.0</td>\n",
       "      <td>never smoked</td>\n",
       "      <td>1</td>\n",
       "    </tr>\n",
       "  </tbody>\n",
       "</table>\n",
       "</div>"
      ],
      "text/plain": [
       "      id  gender   age  hypertension  heart_disease ever_married  \\\n",
       "0   9046    Male  67.0             0              1          Yes   \n",
       "1  51676  Female  61.0             0              0          Yes   \n",
       "2  31112    Male  80.0             0              1          Yes   \n",
       "3  60182  Female  49.0             0              0          Yes   \n",
       "4   1665  Female  79.0             1              0          Yes   \n",
       "\n",
       "       work_type Residence_type  avg_glucose_level   bmi   smoking_status  \\\n",
       "0        Private          Urban             228.69  36.6  formerly smoked   \n",
       "1  Self-employed          Rural             202.21   NaN     never smoked   \n",
       "2        Private          Rural             105.92  32.5     never smoked   \n",
       "3        Private          Urban             171.23  34.4           smokes   \n",
       "4  Self-employed          Rural             174.12  24.0     never smoked   \n",
       "\n",
       "   stroke  \n",
       "0       1  \n",
       "1       1  \n",
       "2       1  \n",
       "3       1  \n",
       "4       1  "
      ]
     },
     "execution_count": 5,
     "metadata": {},
     "output_type": "execute_result"
    }
   ],
   "source": [
    "data = pd.read_csv('D:\\Sem 7\\healthcare-dataset-stroke-data.csv')\n",
    "data.head()"
   ]
  },
  {
   "cell_type": "markdown",
   "metadata": {
    "id": "4awYvMRU19-n"
   },
   "source": [
    "First thing I notice is the id column and NaN value in the BMI column. I don't think ID will be useful in our analysis, so I will just drop it. "
   ]
  },
  {
   "cell_type": "code",
   "execution_count": 6,
   "metadata": {
    "execution": {
     "iopub.execute_input": "2022-09-02T09:19:13.394816Z",
     "iopub.status.busy": "2022-09-02T09:19:13.394408Z",
     "iopub.status.idle": "2022-09-02T09:19:13.408357Z",
     "shell.execute_reply": "2022-09-02T09:19:13.40692Z",
     "shell.execute_reply.started": "2022-09-02T09:19:13.394785Z"
    },
    "id": "TNGJV8kK19-p"
   },
   "outputs": [],
   "source": [
    "data.drop('id', axis= 1, inplace= True)"
   ]
  },
  {
   "cell_type": "code",
   "execution_count": 7,
   "metadata": {
    "colab": {
     "base_uri": "https://localhost:8080/"
    },
    "execution": {
     "iopub.execute_input": "2022-09-02T09:19:14.10036Z",
     "iopub.status.busy": "2022-09-02T09:19:14.099231Z",
     "iopub.status.idle": "2022-09-02T09:19:14.107754Z",
     "shell.execute_reply": "2022-09-02T09:19:14.106521Z",
     "shell.execute_reply.started": "2022-09-02T09:19:14.100298Z"
    },
    "id": "nSt6XSgC19-q",
    "outputId": "8744abf3-d9ed-4c41-ae2b-443d2981080d"
   },
   "outputs": [
    {
     "data": {
      "text/plain": [
       "(5110, 11)"
      ]
     },
     "execution_count": 7,
     "metadata": {},
     "output_type": "execute_result"
    }
   ],
   "source": [
    "data.shape"
   ]
  },
  {
   "cell_type": "code",
   "execution_count": 8,
   "metadata": {
    "colab": {
     "base_uri": "https://localhost:8080/"
    },
    "execution": {
     "iopub.execute_input": "2022-09-02T09:19:14.803852Z",
     "iopub.status.busy": "2022-09-02T09:19:14.803486Z",
     "iopub.status.idle": "2022-09-02T09:19:14.827194Z",
     "shell.execute_reply": "2022-09-02T09:19:14.825887Z",
     "shell.execute_reply.started": "2022-09-02T09:19:14.803821Z"
    },
    "id": "u1gd_9Hf19-r",
    "outputId": "1b158a07-4cea-41a9-9a8b-61f9a4ddce76"
   },
   "outputs": [
    {
     "name": "stdout",
     "output_type": "stream",
     "text": [
      "<class 'pandas.core.frame.DataFrame'>\n",
      "RangeIndex: 5110 entries, 0 to 5109\n",
      "Data columns (total 11 columns):\n",
      " #   Column             Non-Null Count  Dtype  \n",
      "---  ------             --------------  -----  \n",
      " 0   gender             5110 non-null   object \n",
      " 1   age                5110 non-null   float64\n",
      " 2   hypertension       5110 non-null   int64  \n",
      " 3   heart_disease      5110 non-null   int64  \n",
      " 4   ever_married       5110 non-null   object \n",
      " 5   work_type          5110 non-null   object \n",
      " 6   Residence_type     5110 non-null   object \n",
      " 7   avg_glucose_level  5110 non-null   float64\n",
      " 8   bmi                4909 non-null   float64\n",
      " 9   smoking_status     5110 non-null   object \n",
      " 10  stroke             5110 non-null   int64  \n",
      "dtypes: float64(3), int64(3), object(5)\n",
      "memory usage: 439.3+ KB\n"
     ]
    }
   ],
   "source": [
    "data.info()"
   ]
  },
  {
   "cell_type": "markdown",
   "metadata": {
    "id": "w6pcp2PE19-t"
   },
   "source": [
    "We can see that Hypertension, heart disease and stroke have an integer data type but we know that they are categorical variables. So I will convert them to object datatype."
   ]
  },
  {
   "cell_type": "code",
   "execution_count": 9,
   "metadata": {
    "execution": {
     "iopub.execute_input": "2022-09-02T09:19:16.874307Z",
     "iopub.status.busy": "2022-09-02T09:19:16.873659Z",
     "iopub.status.idle": "2022-09-02T09:19:16.892191Z",
     "shell.execute_reply": "2022-09-02T09:19:16.891231Z",
     "shell.execute_reply.started": "2022-09-02T09:19:16.874249Z"
    },
    "id": "_miluYDJ19-u"
   },
   "outputs": [],
   "source": [
    "data[['hypertension', 'heart_disease', 'stroke']] = data[['hypertension', 'heart_disease', 'stroke']].astype(str)"
   ]
  },
  {
   "cell_type": "code",
   "execution_count": 10,
   "metadata": {
    "colab": {
     "base_uri": "https://localhost:8080/"
    },
    "execution": {
     "iopub.execute_input": "2022-08-15T11:13:09.991725Z",
     "iopub.status.busy": "2022-08-15T11:13:09.991206Z",
     "iopub.status.idle": "2022-08-15T11:13:10.014884Z",
     "shell.execute_reply": "2022-08-15T11:13:10.013478Z",
     "shell.execute_reply.started": "2022-08-15T11:13:09.991679Z"
    },
    "id": "eW-xdzWS19-v",
    "outputId": "8cd32fe9-ab6b-4b4c-a34e-85718ea2623e"
   },
   "outputs": [
    {
     "name": "stdout",
     "output_type": "stream",
     "text": [
      "<class 'pandas.core.frame.DataFrame'>\n",
      "RangeIndex: 5110 entries, 0 to 5109\n",
      "Data columns (total 11 columns):\n",
      " #   Column             Non-Null Count  Dtype  \n",
      "---  ------             --------------  -----  \n",
      " 0   gender             5110 non-null   object \n",
      " 1   age                5110 non-null   float64\n",
      " 2   hypertension       5110 non-null   object \n",
      " 3   heart_disease      5110 non-null   object \n",
      " 4   ever_married       5110 non-null   object \n",
      " 5   work_type          5110 non-null   object \n",
      " 6   Residence_type     5110 non-null   object \n",
      " 7   avg_glucose_level  5110 non-null   float64\n",
      " 8   bmi                4909 non-null   float64\n",
      " 9   smoking_status     5110 non-null   object \n",
      " 10  stroke             5110 non-null   object \n",
      "dtypes: float64(3), object(8)\n",
      "memory usage: 439.3+ KB\n"
     ]
    }
   ],
   "source": [
    "data.info()"
   ]
  },
  {
   "cell_type": "code",
   "execution_count": 11,
   "metadata": {
    "colab": {
     "base_uri": "https://localhost:8080/",
     "height": 300
    },
    "execution": {
     "iopub.execute_input": "2022-08-15T11:13:10.019092Z",
     "iopub.status.busy": "2022-08-15T11:13:10.016968Z",
     "iopub.status.idle": "2022-08-15T11:13:10.047939Z",
     "shell.execute_reply": "2022-08-15T11:13:10.047Z",
     "shell.execute_reply.started": "2022-08-15T11:13:10.019045Z"
    },
    "id": "yetXrJ4O19-w",
    "outputId": "c4a44001-4b1e-4f7d-8c97-c157b661157c"
   },
   "outputs": [
    {
     "data": {
      "text/html": [
       "<div>\n",
       "<style scoped>\n",
       "    .dataframe tbody tr th:only-of-type {\n",
       "        vertical-align: middle;\n",
       "    }\n",
       "\n",
       "    .dataframe tbody tr th {\n",
       "        vertical-align: top;\n",
       "    }\n",
       "\n",
       "    .dataframe thead th {\n",
       "        text-align: right;\n",
       "    }\n",
       "</style>\n",
       "<table border=\"1\" class=\"dataframe\">\n",
       "  <thead>\n",
       "    <tr style=\"text-align: right;\">\n",
       "      <th></th>\n",
       "      <th>age</th>\n",
       "      <th>avg_glucose_level</th>\n",
       "      <th>bmi</th>\n",
       "    </tr>\n",
       "  </thead>\n",
       "  <tbody>\n",
       "    <tr>\n",
       "      <th>count</th>\n",
       "      <td>5110.000000</td>\n",
       "      <td>5110.000000</td>\n",
       "      <td>4909.000000</td>\n",
       "    </tr>\n",
       "    <tr>\n",
       "      <th>mean</th>\n",
       "      <td>43.226614</td>\n",
       "      <td>106.147677</td>\n",
       "      <td>28.893237</td>\n",
       "    </tr>\n",
       "    <tr>\n",
       "      <th>std</th>\n",
       "      <td>22.612647</td>\n",
       "      <td>45.283560</td>\n",
       "      <td>7.854067</td>\n",
       "    </tr>\n",
       "    <tr>\n",
       "      <th>min</th>\n",
       "      <td>0.080000</td>\n",
       "      <td>55.120000</td>\n",
       "      <td>10.300000</td>\n",
       "    </tr>\n",
       "    <tr>\n",
       "      <th>25%</th>\n",
       "      <td>25.000000</td>\n",
       "      <td>77.245000</td>\n",
       "      <td>23.500000</td>\n",
       "    </tr>\n",
       "    <tr>\n",
       "      <th>50%</th>\n",
       "      <td>45.000000</td>\n",
       "      <td>91.885000</td>\n",
       "      <td>28.100000</td>\n",
       "    </tr>\n",
       "    <tr>\n",
       "      <th>75%</th>\n",
       "      <td>61.000000</td>\n",
       "      <td>114.090000</td>\n",
       "      <td>33.100000</td>\n",
       "    </tr>\n",
       "    <tr>\n",
       "      <th>max</th>\n",
       "      <td>82.000000</td>\n",
       "      <td>271.740000</td>\n",
       "      <td>97.600000</td>\n",
       "    </tr>\n",
       "  </tbody>\n",
       "</table>\n",
       "</div>"
      ],
      "text/plain": [
       "               age  avg_glucose_level          bmi\n",
       "count  5110.000000        5110.000000  4909.000000\n",
       "mean     43.226614         106.147677    28.893237\n",
       "std      22.612647          45.283560     7.854067\n",
       "min       0.080000          55.120000    10.300000\n",
       "25%      25.000000          77.245000    23.500000\n",
       "50%      45.000000          91.885000    28.100000\n",
       "75%      61.000000         114.090000    33.100000\n",
       "max      82.000000         271.740000    97.600000"
      ]
     },
     "execution_count": 11,
     "metadata": {},
     "output_type": "execute_result"
    }
   ],
   "source": [
    "data.describe()"
   ]
  },
  {
   "cell_type": "markdown",
   "metadata": {
    "id": "VC6Ib1fy19-x"
   },
   "source": [
    "It seems like we have some outliers in avg_glucose_level and bmi column. So lets construct a boxplot of our numerical variable to check for outliers"
   ]
  },
  {
   "cell_type": "code",
   "execution_count": 12,
   "metadata": {
    "execution": {
     "iopub.execute_input": "2022-09-02T09:20:42.832046Z",
     "iopub.status.busy": "2022-09-02T09:20:42.831668Z",
     "iopub.status.idle": "2022-09-02T09:20:42.839682Z",
     "shell.execute_reply": "2022-09-02T09:20:42.838432Z",
     "shell.execute_reply.started": "2022-09-02T09:20:42.832017Z"
    },
    "id": "lomoddpG19-2"
   },
   "outputs": [],
   "source": [
    "for col in ['avg_glucose_level', 'bmi']:\n",
    "    data[col] = np.log(data[col])"
   ]
  },
  {
   "cell_type": "code",
   "execution_count": 13,
   "metadata": {
    "colab": {
     "base_uri": "https://localhost:8080/",
     "height": 300
    },
    "execution": {
     "iopub.execute_input": "2022-09-02T09:20:43.882989Z",
     "iopub.status.busy": "2022-09-02T09:20:43.882577Z",
     "iopub.status.idle": "2022-09-02T09:20:43.907684Z",
     "shell.execute_reply": "2022-09-02T09:20:43.906404Z",
     "shell.execute_reply.started": "2022-09-02T09:20:43.882952Z"
    },
    "id": "8AOEvcI-19-2",
    "outputId": "72a731b4-5db7-48bc-864f-a6f30c82ceff"
   },
   "outputs": [
    {
     "data": {
      "text/html": [
       "<div>\n",
       "<style scoped>\n",
       "    .dataframe tbody tr th:only-of-type {\n",
       "        vertical-align: middle;\n",
       "    }\n",
       "\n",
       "    .dataframe tbody tr th {\n",
       "        vertical-align: top;\n",
       "    }\n",
       "\n",
       "    .dataframe thead th {\n",
       "        text-align: right;\n",
       "    }\n",
       "</style>\n",
       "<table border=\"1\" class=\"dataframe\">\n",
       "  <thead>\n",
       "    <tr style=\"text-align: right;\">\n",
       "      <th></th>\n",
       "      <th>age</th>\n",
       "      <th>avg_glucose_level</th>\n",
       "      <th>bmi</th>\n",
       "    </tr>\n",
       "  </thead>\n",
       "  <tbody>\n",
       "    <tr>\n",
       "      <th>count</th>\n",
       "      <td>5110.000000</td>\n",
       "      <td>5110.000000</td>\n",
       "      <td>4909.000000</td>\n",
       "    </tr>\n",
       "    <tr>\n",
       "      <th>mean</th>\n",
       "      <td>43.226614</td>\n",
       "      <td>4.592465</td>\n",
       "      <td>3.328423</td>\n",
       "    </tr>\n",
       "    <tr>\n",
       "      <th>std</th>\n",
       "      <td>22.612647</td>\n",
       "      <td>0.361985</td>\n",
       "      <td>0.265064</td>\n",
       "    </tr>\n",
       "    <tr>\n",
       "      <th>min</th>\n",
       "      <td>0.080000</td>\n",
       "      <td>4.009513</td>\n",
       "      <td>2.332144</td>\n",
       "    </tr>\n",
       "    <tr>\n",
       "      <th>25%</th>\n",
       "      <td>25.000000</td>\n",
       "      <td>4.346982</td>\n",
       "      <td>3.157000</td>\n",
       "    </tr>\n",
       "    <tr>\n",
       "      <th>50%</th>\n",
       "      <td>45.000000</td>\n",
       "      <td>4.520538</td>\n",
       "      <td>3.335770</td>\n",
       "    </tr>\n",
       "    <tr>\n",
       "      <th>75%</th>\n",
       "      <td>61.000000</td>\n",
       "      <td>4.736988</td>\n",
       "      <td>3.499533</td>\n",
       "    </tr>\n",
       "    <tr>\n",
       "      <th>max</th>\n",
       "      <td>82.000000</td>\n",
       "      <td>5.604846</td>\n",
       "      <td>4.580877</td>\n",
       "    </tr>\n",
       "  </tbody>\n",
       "</table>\n",
       "</div>"
      ],
      "text/plain": [
       "               age  avg_glucose_level          bmi\n",
       "count  5110.000000        5110.000000  4909.000000\n",
       "mean     43.226614           4.592465     3.328423\n",
       "std      22.612647           0.361985     0.265064\n",
       "min       0.080000           4.009513     2.332144\n",
       "25%      25.000000           4.346982     3.157000\n",
       "50%      45.000000           4.520538     3.335770\n",
       "75%      61.000000           4.736988     3.499533\n",
       "max      82.000000           5.604846     4.580877"
      ]
     },
     "execution_count": 13,
     "metadata": {},
     "output_type": "execute_result"
    }
   ],
   "source": [
    "data.describe()"
   ]
  },
  {
   "cell_type": "markdown",
   "metadata": {
    "id": "jGM1UuVT19-3"
   },
   "source": [
    "Now lets try to visualise the unique values we have in our categorical features."
   ]
  },
  {
   "cell_type": "markdown",
   "metadata": {
    "id": "fs9DIDLW19-4"
   },
   "source": [
    "The number of people who actually had a stroke are very less in our dataset. We will have to keep that in mind when we split our dataset"
   ]
  },
  {
   "cell_type": "markdown",
   "metadata": {
    "id": "dyVriBT419-5"
   },
   "source": [
    "One thing I did notice is we have a **Other** category in Gender column. I am just going to drop it for simplicity sake."
   ]
  },
  {
   "cell_type": "code",
   "execution_count": 14,
   "metadata": {
    "colab": {
     "base_uri": "https://localhost:8080/"
    },
    "execution": {
     "iopub.execute_input": "2022-08-15T11:13:12.927669Z",
     "iopub.status.busy": "2022-08-15T11:13:12.926984Z",
     "iopub.status.idle": "2022-08-15T11:13:12.938982Z",
     "shell.execute_reply": "2022-08-15T11:13:12.937805Z",
     "shell.execute_reply.started": "2022-08-15T11:13:12.927626Z"
    },
    "id": "dspy2vAb19-5",
    "outputId": "b34d078d-96a7-4ee8-f7e9-1f40e44e6efd"
   },
   "outputs": [
    {
     "data": {
      "text/plain": [
       "Female    2994\n",
       "Male      2115\n",
       "Other        1\n",
       "Name: gender, dtype: int64"
      ]
     },
     "execution_count": 14,
     "metadata": {},
     "output_type": "execute_result"
    }
   ],
   "source": [
    "data['gender'].value_counts()"
   ]
  },
  {
   "cell_type": "code",
   "execution_count": 15,
   "metadata": {
    "execution": {
     "iopub.execute_input": "2022-09-02T09:20:59.653273Z",
     "iopub.status.busy": "2022-09-02T09:20:59.652103Z",
     "iopub.status.idle": "2022-09-02T09:20:59.662735Z",
     "shell.execute_reply": "2022-09-02T09:20:59.661668Z",
     "shell.execute_reply.started": "2022-09-02T09:20:59.653228Z"
    },
    "id": "uOxRpWls19-6"
   },
   "outputs": [],
   "source": [
    "data.drop(data[data['gender'] == 'Other'].index, inplace= True)"
   ]
  },
  {
   "cell_type": "markdown",
   "metadata": {
    "id": "5qY6Xriy19-6"
   },
   "source": [
    "Now let us try and visualise our categorical features based on our target variable"
   ]
  },
  {
   "cell_type": "markdown",
   "metadata": {
    "id": "034VfadX19-7"
   },
   "source": [
    "One thing I do notice is urban people have more strokes as compared to people living in rural areas"
   ]
  },
  {
   "cell_type": "markdown",
   "metadata": {
    "id": "P5nzdMoX19-7"
   },
   "source": [
    "## **Filling Missing Values**"
   ]
  },
  {
   "cell_type": "code",
   "execution_count": 16,
   "metadata": {
    "colab": {
     "base_uri": "https://localhost:8080/"
    },
    "execution": {
     "iopub.execute_input": "2022-08-15T11:13:14.335488Z",
     "iopub.status.busy": "2022-08-15T11:13:14.334564Z",
     "iopub.status.idle": "2022-08-15T11:13:14.347319Z",
     "shell.execute_reply": "2022-08-15T11:13:14.346214Z",
     "shell.execute_reply.started": "2022-08-15T11:13:14.335452Z"
    },
    "id": "7PV74SFZ19-8",
    "outputId": "ba209acb-5980-40d5-bc6c-de6cd365ea12"
   },
   "outputs": [
    {
     "data": {
      "text/plain": [
       "gender                 0\n",
       "age                    0\n",
       "hypertension           0\n",
       "heart_disease          0\n",
       "ever_married           0\n",
       "work_type              0\n",
       "Residence_type         0\n",
       "avg_glucose_level      0\n",
       "bmi                  201\n",
       "smoking_status         0\n",
       "stroke                 0\n",
       "dtype: int64"
      ]
     },
     "execution_count": 16,
     "metadata": {},
     "output_type": "execute_result"
    }
   ],
   "source": [
    "data.isnull().sum()"
   ]
  },
  {
   "cell_type": "markdown",
   "metadata": {
    "id": "2-WBdh6H19-8"
   },
   "source": [
    "We only have missing values in the BMI column. I will do knn imputation to fill those missing values"
   ]
  },
  {
   "cell_type": "code",
   "execution_count": 17,
   "metadata": {
    "execution": {
     "iopub.execute_input": "2022-09-02T09:21:05.180404Z",
     "iopub.status.busy": "2022-09-02T09:21:05.180027Z",
     "iopub.status.idle": "2022-09-02T09:21:05.188441Z",
     "shell.execute_reply": "2022-09-02T09:21:05.187657Z",
     "shell.execute_reply.started": "2022-09-02T09:21:05.180363Z"
    },
    "id": "Ns8ubEyM19-8"
   },
   "outputs": [],
   "source": [
    "def knn_impute(df, na_target):\n",
    "    df = df.copy()\n",
    "    \n",
    "    numeric_df = df.select_dtypes(np.number)\n",
    "    non_na_columns = numeric_df.loc[: ,numeric_df.isna().sum() == 0].columns\n",
    "    \n",
    "    y_train = numeric_df.loc[numeric_df[na_target].isna() == False, na_target]\n",
    "    X_train = numeric_df.loc[numeric_df[na_target].isna() == False, non_na_columns]\n",
    "    X_test = numeric_df.loc[numeric_df[na_target].isna() == True, non_na_columns]\n",
    "    \n",
    "    knn = KNeighborsRegressor()\n",
    "    knn.fit(X_train, y_train)\n",
    "    \n",
    "    y_pred = knn.predict(X_test)\n",
    "    \n",
    "    df.loc[df[na_target].isna() == True, na_target] = y_pred\n",
    "    \n",
    "    return df"
   ]
  },
  {
   "cell_type": "code",
   "execution_count": 18,
   "metadata": {
    "execution": {
     "iopub.execute_input": "2022-09-02T09:21:06.095933Z",
     "iopub.status.busy": "2022-09-02T09:21:06.095432Z",
     "iopub.status.idle": "2022-09-02T09:21:06.115506Z",
     "shell.execute_reply": "2022-09-02T09:21:06.11439Z",
     "shell.execute_reply.started": "2022-09-02T09:21:06.095863Z"
    },
    "id": "t1ptZR8T19-9"
   },
   "outputs": [],
   "source": [
    "data1 = knn_impute(data, 'bmi')"
   ]
  },
  {
   "cell_type": "code",
   "execution_count": 19,
   "metadata": {
    "colab": {
     "base_uri": "https://localhost:8080/"
    },
    "execution": {
     "iopub.execute_input": "2022-09-02T09:21:06.816992Z",
     "iopub.status.busy": "2022-09-02T09:21:06.816119Z",
     "iopub.status.idle": "2022-09-02T09:21:06.830048Z",
     "shell.execute_reply": "2022-09-02T09:21:06.828676Z",
     "shell.execute_reply.started": "2022-09-02T09:21:06.816941Z"
    },
    "id": "8WkgxTix19-9",
    "outputId": "17563a99-e797-420e-eece-43f2919f7b86"
   },
   "outputs": [
    {
     "data": {
      "text/plain": [
       "gender               0\n",
       "age                  0\n",
       "hypertension         0\n",
       "heart_disease        0\n",
       "ever_married         0\n",
       "work_type            0\n",
       "Residence_type       0\n",
       "avg_glucose_level    0\n",
       "bmi                  0\n",
       "smoking_status       0\n",
       "stroke               0\n",
       "dtype: int64"
      ]
     },
     "execution_count": 19,
     "metadata": {},
     "output_type": "execute_result"
    }
   ],
   "source": [
    "data1.isnull().sum()"
   ]
  },
  {
   "cell_type": "markdown",
   "metadata": {
    "id": "dOV5q3Wz19-9"
   },
   "source": [
    "## **Encoding**"
   ]
  },
  {
   "cell_type": "code",
   "execution_count": 20,
   "metadata": {
    "execution": {
     "iopub.execute_input": "2022-09-02T09:21:08.853978Z",
     "iopub.status.busy": "2022-09-02T09:21:08.853554Z",
     "iopub.status.idle": "2022-09-02T09:21:08.875548Z",
     "shell.execute_reply": "2022-09-02T09:21:08.874563Z",
     "shell.execute_reply.started": "2022-09-02T09:21:08.853944Z"
    },
    "id": "iP-XpY2419--"
   },
   "outputs": [],
   "source": [
    "data2 = pd.get_dummies(data1, drop_first= True)"
   ]
  },
  {
   "cell_type": "code",
   "execution_count": 21,
   "metadata": {
    "colab": {
     "base_uri": "https://localhost:8080/"
    },
    "execution": {
     "iopub.execute_input": "2022-08-15T11:13:14.431913Z",
     "iopub.status.busy": "2022-08-15T11:13:14.431482Z",
     "iopub.status.idle": "2022-08-15T11:13:14.452618Z",
     "shell.execute_reply": "2022-08-15T11:13:14.451307Z",
     "shell.execute_reply.started": "2022-08-15T11:13:14.431869Z"
    },
    "id": "PlIrgBBz19--",
    "outputId": "a554139a-41f0-4ac5-f4ed-49c49046a946"
   },
   "outputs": [
    {
     "data": {
      "text/html": [
       "<div>\n",
       "<style scoped>\n",
       "    .dataframe tbody tr th:only-of-type {\n",
       "        vertical-align: middle;\n",
       "    }\n",
       "\n",
       "    .dataframe tbody tr th {\n",
       "        vertical-align: top;\n",
       "    }\n",
       "\n",
       "    .dataframe thead th {\n",
       "        text-align: right;\n",
       "    }\n",
       "</style>\n",
       "<table border=\"1\" class=\"dataframe\">\n",
       "  <thead>\n",
       "    <tr style=\"text-align: right;\">\n",
       "      <th></th>\n",
       "      <th>age</th>\n",
       "      <th>avg_glucose_level</th>\n",
       "      <th>bmi</th>\n",
       "      <th>gender_Male</th>\n",
       "      <th>hypertension_1</th>\n",
       "      <th>heart_disease_1</th>\n",
       "      <th>ever_married_Yes</th>\n",
       "      <th>work_type_Never_worked</th>\n",
       "      <th>work_type_Private</th>\n",
       "      <th>work_type_Self-employed</th>\n",
       "      <th>work_type_children</th>\n",
       "      <th>Residence_type_Urban</th>\n",
       "      <th>smoking_status_formerly smoked</th>\n",
       "      <th>smoking_status_never smoked</th>\n",
       "      <th>smoking_status_smokes</th>\n",
       "      <th>stroke_1</th>\n",
       "    </tr>\n",
       "  </thead>\n",
       "  <tbody>\n",
       "    <tr>\n",
       "      <th>0</th>\n",
       "      <td>67.0</td>\n",
       "      <td>5.432367</td>\n",
       "      <td>3.600048</td>\n",
       "      <td>1</td>\n",
       "      <td>0</td>\n",
       "      <td>1</td>\n",
       "      <td>1</td>\n",
       "      <td>0</td>\n",
       "      <td>1</td>\n",
       "      <td>0</td>\n",
       "      <td>0</td>\n",
       "      <td>1</td>\n",
       "      <td>1</td>\n",
       "      <td>0</td>\n",
       "      <td>0</td>\n",
       "      <td>1</td>\n",
       "    </tr>\n",
       "    <tr>\n",
       "      <th>1</th>\n",
       "      <td>61.0</td>\n",
       "      <td>5.309307</td>\n",
       "      <td>3.535493</td>\n",
       "      <td>0</td>\n",
       "      <td>0</td>\n",
       "      <td>0</td>\n",
       "      <td>1</td>\n",
       "      <td>0</td>\n",
       "      <td>0</td>\n",
       "      <td>1</td>\n",
       "      <td>0</td>\n",
       "      <td>0</td>\n",
       "      <td>0</td>\n",
       "      <td>1</td>\n",
       "      <td>0</td>\n",
       "      <td>1</td>\n",
       "    </tr>\n",
       "    <tr>\n",
       "      <th>2</th>\n",
       "      <td>80.0</td>\n",
       "      <td>4.662684</td>\n",
       "      <td>3.481240</td>\n",
       "      <td>1</td>\n",
       "      <td>0</td>\n",
       "      <td>1</td>\n",
       "      <td>1</td>\n",
       "      <td>0</td>\n",
       "      <td>1</td>\n",
       "      <td>0</td>\n",
       "      <td>0</td>\n",
       "      <td>0</td>\n",
       "      <td>0</td>\n",
       "      <td>1</td>\n",
       "      <td>0</td>\n",
       "      <td>1</td>\n",
       "    </tr>\n",
       "    <tr>\n",
       "      <th>3</th>\n",
       "      <td>49.0</td>\n",
       "      <td>5.143008</td>\n",
       "      <td>3.538057</td>\n",
       "      <td>0</td>\n",
       "      <td>0</td>\n",
       "      <td>0</td>\n",
       "      <td>1</td>\n",
       "      <td>0</td>\n",
       "      <td>1</td>\n",
       "      <td>0</td>\n",
       "      <td>0</td>\n",
       "      <td>1</td>\n",
       "      <td>0</td>\n",
       "      <td>0</td>\n",
       "      <td>1</td>\n",
       "      <td>1</td>\n",
       "    </tr>\n",
       "    <tr>\n",
       "      <th>4</th>\n",
       "      <td>79.0</td>\n",
       "      <td>5.159745</td>\n",
       "      <td>3.178054</td>\n",
       "      <td>0</td>\n",
       "      <td>1</td>\n",
       "      <td>0</td>\n",
       "      <td>1</td>\n",
       "      <td>0</td>\n",
       "      <td>0</td>\n",
       "      <td>1</td>\n",
       "      <td>0</td>\n",
       "      <td>0</td>\n",
       "      <td>0</td>\n",
       "      <td>1</td>\n",
       "      <td>0</td>\n",
       "      <td>1</td>\n",
       "    </tr>\n",
       "  </tbody>\n",
       "</table>\n",
       "</div>"
      ],
      "text/plain": [
       "    age  avg_glucose_level       bmi  gender_Male  hypertension_1  \\\n",
       "0  67.0           5.432367  3.600048            1               0   \n",
       "1  61.0           5.309307  3.535493            0               0   \n",
       "2  80.0           4.662684  3.481240            1               0   \n",
       "3  49.0           5.143008  3.538057            0               0   \n",
       "4  79.0           5.159745  3.178054            0               1   \n",
       "\n",
       "   heart_disease_1  ever_married_Yes  work_type_Never_worked  \\\n",
       "0                1                 1                       0   \n",
       "1                0                 1                       0   \n",
       "2                1                 1                       0   \n",
       "3                0                 1                       0   \n",
       "4                0                 1                       0   \n",
       "\n",
       "   work_type_Private  work_type_Self-employed  work_type_children  \\\n",
       "0                  1                        0                   0   \n",
       "1                  0                        1                   0   \n",
       "2                  1                        0                   0   \n",
       "3                  1                        0                   0   \n",
       "4                  0                        1                   0   \n",
       "\n",
       "   Residence_type_Urban  smoking_status_formerly smoked  \\\n",
       "0                     1                               1   \n",
       "1                     0                               0   \n",
       "2                     0                               0   \n",
       "3                     1                               0   \n",
       "4                     0                               0   \n",
       "\n",
       "   smoking_status_never smoked  smoking_status_smokes  stroke_1  \n",
       "0                            0                      0         1  \n",
       "1                            1                      0         1  \n",
       "2                            1                      0         1  \n",
       "3                            0                      1         1  \n",
       "4                            1                      0         1  "
      ]
     },
     "execution_count": 21,
     "metadata": {},
     "output_type": "execute_result"
    }
   ],
   "source": [
    "data2.head()"
   ]
  },
  {
   "cell_type": "markdown",
   "metadata": {
    "id": "SI5i4txN19--"
   },
   "source": [
    "## **Scaling**"
   ]
  },
  {
   "cell_type": "code",
   "execution_count": 22,
   "metadata": {
    "execution": {
     "iopub.execute_input": "2022-09-02T09:21:11.675668Z",
     "iopub.status.busy": "2022-09-02T09:21:11.674399Z",
     "iopub.status.idle": "2022-09-02T09:21:11.68679Z",
     "shell.execute_reply": "2022-09-02T09:21:11.68579Z",
     "shell.execute_reply.started": "2022-09-02T09:21:11.675627Z"
    },
    "id": "MOoJITuQ19-_"
   },
   "outputs": [],
   "source": [
    "s = StandardScaler()\n",
    "data2[['bmi', 'avg_glucose_level', 'age']] = s.fit_transform(data2[['bmi', 'avg_glucose_level', 'age']])"
   ]
  },
  {
   "cell_type": "code",
   "execution_count": 23,
   "metadata": {
    "colab": {
     "base_uri": "https://localhost:8080/"
    },
    "execution": {
     "iopub.execute_input": "2022-09-02T09:21:12.483439Z",
     "iopub.status.busy": "2022-09-02T09:21:12.482593Z",
     "iopub.status.idle": "2022-09-02T09:21:12.504641Z",
     "shell.execute_reply": "2022-09-02T09:21:12.503609Z",
     "shell.execute_reply.started": "2022-09-02T09:21:12.483401Z"
    },
    "id": "w_7l6vWk19-_",
    "outputId": "457a4d44-782d-425b-ea9f-7cc6b1212006"
   },
   "outputs": [
    {
     "data": {
      "text/html": [
       "<div>\n",
       "<style scoped>\n",
       "    .dataframe tbody tr th:only-of-type {\n",
       "        vertical-align: middle;\n",
       "    }\n",
       "\n",
       "    .dataframe tbody tr th {\n",
       "        vertical-align: top;\n",
       "    }\n",
       "\n",
       "    .dataframe thead th {\n",
       "        text-align: right;\n",
       "    }\n",
       "</style>\n",
       "<table border=\"1\" class=\"dataframe\">\n",
       "  <thead>\n",
       "    <tr style=\"text-align: right;\">\n",
       "      <th></th>\n",
       "      <th>age</th>\n",
       "      <th>avg_glucose_level</th>\n",
       "      <th>bmi</th>\n",
       "      <th>gender_Male</th>\n",
       "      <th>hypertension_1</th>\n",
       "      <th>heart_disease_1</th>\n",
       "      <th>ever_married_Yes</th>\n",
       "      <th>work_type_Never_worked</th>\n",
       "      <th>work_type_Private</th>\n",
       "      <th>work_type_Self-employed</th>\n",
       "      <th>work_type_children</th>\n",
       "      <th>Residence_type_Urban</th>\n",
       "      <th>smoking_status_formerly smoked</th>\n",
       "      <th>smoking_status_never smoked</th>\n",
       "      <th>smoking_status_smokes</th>\n",
       "      <th>stroke_1</th>\n",
       "    </tr>\n",
       "  </thead>\n",
       "  <tbody>\n",
       "    <tr>\n",
       "      <th>0</th>\n",
       "      <td>1.051242</td>\n",
       "      <td>2.320709</td>\n",
       "      <td>1.027679</td>\n",
       "      <td>1</td>\n",
       "      <td>0</td>\n",
       "      <td>1</td>\n",
       "      <td>1</td>\n",
       "      <td>0</td>\n",
       "      <td>1</td>\n",
       "      <td>0</td>\n",
       "      <td>0</td>\n",
       "      <td>1</td>\n",
       "      <td>1</td>\n",
       "      <td>0</td>\n",
       "      <td>0</td>\n",
       "      <td>1</td>\n",
       "    </tr>\n",
       "    <tr>\n",
       "      <th>1</th>\n",
       "      <td>0.785889</td>\n",
       "      <td>1.980714</td>\n",
       "      <td>0.781547</td>\n",
       "      <td>0</td>\n",
       "      <td>0</td>\n",
       "      <td>0</td>\n",
       "      <td>1</td>\n",
       "      <td>0</td>\n",
       "      <td>0</td>\n",
       "      <td>1</td>\n",
       "      <td>0</td>\n",
       "      <td>0</td>\n",
       "      <td>0</td>\n",
       "      <td>1</td>\n",
       "      <td>0</td>\n",
       "      <td>1</td>\n",
       "    </tr>\n",
       "    <tr>\n",
       "      <th>2</th>\n",
       "      <td>1.626174</td>\n",
       "      <td>0.194204</td>\n",
       "      <td>0.574693</td>\n",
       "      <td>1</td>\n",
       "      <td>0</td>\n",
       "      <td>1</td>\n",
       "      <td>1</td>\n",
       "      <td>0</td>\n",
       "      <td>1</td>\n",
       "      <td>0</td>\n",
       "      <td>0</td>\n",
       "      <td>0</td>\n",
       "      <td>0</td>\n",
       "      <td>1</td>\n",
       "      <td>0</td>\n",
       "      <td>1</td>\n",
       "    </tr>\n",
       "    <tr>\n",
       "      <th>3</th>\n",
       "      <td>0.255182</td>\n",
       "      <td>1.521257</td>\n",
       "      <td>0.791320</td>\n",
       "      <td>0</td>\n",
       "      <td>0</td>\n",
       "      <td>0</td>\n",
       "      <td>1</td>\n",
       "      <td>0</td>\n",
       "      <td>1</td>\n",
       "      <td>0</td>\n",
       "      <td>0</td>\n",
       "      <td>1</td>\n",
       "      <td>0</td>\n",
       "      <td>0</td>\n",
       "      <td>1</td>\n",
       "      <td>1</td>\n",
       "    </tr>\n",
       "    <tr>\n",
       "      <th>4</th>\n",
       "      <td>1.581949</td>\n",
       "      <td>1.567499</td>\n",
       "      <td>-0.581283</td>\n",
       "      <td>0</td>\n",
       "      <td>1</td>\n",
       "      <td>0</td>\n",
       "      <td>1</td>\n",
       "      <td>0</td>\n",
       "      <td>0</td>\n",
       "      <td>1</td>\n",
       "      <td>0</td>\n",
       "      <td>0</td>\n",
       "      <td>0</td>\n",
       "      <td>1</td>\n",
       "      <td>0</td>\n",
       "      <td>1</td>\n",
       "    </tr>\n",
       "  </tbody>\n",
       "</table>\n",
       "</div>"
      ],
      "text/plain": [
       "        age  avg_glucose_level       bmi  gender_Male  hypertension_1  \\\n",
       "0  1.051242           2.320709  1.027679            1               0   \n",
       "1  0.785889           1.980714  0.781547            0               0   \n",
       "2  1.626174           0.194204  0.574693            1               0   \n",
       "3  0.255182           1.521257  0.791320            0               0   \n",
       "4  1.581949           1.567499 -0.581283            0               1   \n",
       "\n",
       "   heart_disease_1  ever_married_Yes  work_type_Never_worked  \\\n",
       "0                1                 1                       0   \n",
       "1                0                 1                       0   \n",
       "2                1                 1                       0   \n",
       "3                0                 1                       0   \n",
       "4                0                 1                       0   \n",
       "\n",
       "   work_type_Private  work_type_Self-employed  work_type_children  \\\n",
       "0                  1                        0                   0   \n",
       "1                  0                        1                   0   \n",
       "2                  1                        0                   0   \n",
       "3                  1                        0                   0   \n",
       "4                  0                        1                   0   \n",
       "\n",
       "   Residence_type_Urban  smoking_status_formerly smoked  \\\n",
       "0                     1                               1   \n",
       "1                     0                               0   \n",
       "2                     0                               0   \n",
       "3                     1                               0   \n",
       "4                     0                               0   \n",
       "\n",
       "   smoking_status_never smoked  smoking_status_smokes  stroke_1  \n",
       "0                            0                      0         1  \n",
       "1                            1                      0         1  \n",
       "2                            1                      0         1  \n",
       "3                            0                      1         1  \n",
       "4                            1                      0         1  "
      ]
     },
     "execution_count": 23,
     "metadata": {},
     "output_type": "execute_result"
    }
   ],
   "source": [
    "data3 = data2.copy()\n",
    "data3.head()"
   ]
  },
  {
   "cell_type": "markdown",
   "metadata": {
    "id": "RqPjQXMQ19-_"
   },
   "source": [
    "It seems like our data is ready for modelling. Lets split our dataset into train and test set"
   ]
  },
  {
   "cell_type": "markdown",
   "metadata": {
    "id": "MPqc67U219_A"
   },
   "source": [
    "## **Data Splitting**"
   ]
  },
  {
   "cell_type": "code",
   "execution_count": 24,
   "metadata": {
    "execution": {
     "iopub.execute_input": "2022-09-02T09:21:14.345282Z",
     "iopub.status.busy": "2022-09-02T09:21:14.344831Z",
     "iopub.status.idle": "2022-09-02T09:21:14.366033Z",
     "shell.execute_reply": "2022-09-02T09:21:14.364872Z",
     "shell.execute_reply.started": "2022-09-02T09:21:14.345248Z"
    },
    "id": "1J7RkMLB19_A"
   },
   "outputs": [],
   "source": [
    "oversample = RandomOverSampler(sampling_strategy='not majority')\n",
    "X=data3.drop(['stroke_1'],axis=1)\n",
    "y=data3['stroke_1']\n",
    "X_over, y_over = oversample.fit_resample(X, y)"
   ]
  },
  {
   "cell_type": "markdown",
   "metadata": {
    "id": "ttxMt0Kk19_A"
   },
   "source": [
    "This oversampling step was inspired from Harshit Gupta's notebook. \n",
    "[Click Here](https://www.kaggle.com/code/casper6290/strokeprediction-99-acc) to check out the notebook"
   ]
  },
  {
   "cell_type": "code",
   "execution_count": 25,
   "metadata": {
    "execution": {
     "iopub.execute_input": "2022-09-02T09:21:16.057615Z",
     "iopub.status.busy": "2022-09-02T09:21:16.056527Z",
     "iopub.status.idle": "2022-09-02T09:21:16.066344Z",
     "shell.execute_reply": "2022-09-02T09:21:16.065515Z",
     "shell.execute_reply.started": "2022-09-02T09:21:16.057573Z"
    },
    "id": "JmzW1zaO19_B"
   },
   "outputs": [],
   "source": [
    "X_train, X_test, y_train, y_test = train_test_split(X_over, y_over, test_size= 0.2, random_state= 42)"
   ]
  },
  {
   "cell_type": "code",
   "execution_count": 26,
   "metadata": {
    "colab": {
     "base_uri": "https://localhost:8080/"
    },
    "execution": {
     "iopub.execute_input": "2022-09-02T09:21:17.065797Z",
     "iopub.status.busy": "2022-09-02T09:21:17.065056Z",
     "iopub.status.idle": "2022-09-02T09:21:17.075086Z",
     "shell.execute_reply": "2022-09-02T09:21:17.073869Z",
     "shell.execute_reply.started": "2022-09-02T09:21:17.065748Z"
    },
    "id": "zaKkCGSG19_B",
    "outputId": "55792e89-ba31-4517-8e2a-e70bbffcb8af"
   },
   "outputs": [
    {
     "name": "stdout",
     "output_type": "stream",
     "text": [
      "1    3892\n",
      "0    3884\n",
      "Name: stroke_1, dtype: int64\n",
      "0    976\n",
      "1    968\n",
      "Name: stroke_1, dtype: int64\n"
     ]
    }
   ],
   "source": [
    "print(y_train.value_counts())\n",
    "print(y_test.value_counts())"
   ]
  },
  {
   "cell_type": "code",
   "execution_count": 27,
   "metadata": {
    "id": "AouuLMPWi-Sk"
   },
   "outputs": [],
   "source": [
    "from sklearn.metrics import precision_score,recall_score\n",
    "from sklearn.metrics import f1_score"
   ]
  },
  {
   "cell_type": "code",
   "execution_count": 28,
   "metadata": {},
   "outputs": [
    {
     "data": {
      "text/html": [
       "<div>\n",
       "<style scoped>\n",
       "    .dataframe tbody tr th:only-of-type {\n",
       "        vertical-align: middle;\n",
       "    }\n",
       "\n",
       "    .dataframe tbody tr th {\n",
       "        vertical-align: top;\n",
       "    }\n",
       "\n",
       "    .dataframe thead th {\n",
       "        text-align: right;\n",
       "    }\n",
       "</style>\n",
       "<table border=\"1\" class=\"dataframe\">\n",
       "  <thead>\n",
       "    <tr style=\"text-align: right;\">\n",
       "      <th></th>\n",
       "      <th>age</th>\n",
       "      <th>avg_glucose_level</th>\n",
       "      <th>bmi</th>\n",
       "      <th>gender_Male</th>\n",
       "      <th>hypertension_1</th>\n",
       "      <th>heart_disease_1</th>\n",
       "      <th>ever_married_Yes</th>\n",
       "      <th>work_type_Never_worked</th>\n",
       "      <th>work_type_Private</th>\n",
       "      <th>work_type_Self-employed</th>\n",
       "      <th>work_type_children</th>\n",
       "      <th>Residence_type_Urban</th>\n",
       "      <th>smoking_status_formerly smoked</th>\n",
       "      <th>smoking_status_never smoked</th>\n",
       "      <th>smoking_status_smokes</th>\n",
       "    </tr>\n",
       "  </thead>\n",
       "  <tbody>\n",
       "    <tr>\n",
       "      <th>251</th>\n",
       "      <td>-1.558066</td>\n",
       "      <td>0.320893</td>\n",
       "      <td>-1.763829</td>\n",
       "      <td>0</td>\n",
       "      <td>0</td>\n",
       "      <td>0</td>\n",
       "      <td>0</td>\n",
       "      <td>0</td>\n",
       "      <td>1</td>\n",
       "      <td>0</td>\n",
       "      <td>0</td>\n",
       "      <td>1</td>\n",
       "      <td>0</td>\n",
       "      <td>0</td>\n",
       "      <td>0</td>\n",
       "    </tr>\n",
       "    <tr>\n",
       "      <th>4961</th>\n",
       "      <td>0.166731</td>\n",
       "      <td>0.214216</td>\n",
       "      <td>0.419048</td>\n",
       "      <td>1</td>\n",
       "      <td>0</td>\n",
       "      <td>0</td>\n",
       "      <td>1</td>\n",
       "      <td>0</td>\n",
       "      <td>1</td>\n",
       "      <td>0</td>\n",
       "      <td>0</td>\n",
       "      <td>1</td>\n",
       "      <td>0</td>\n",
       "      <td>0</td>\n",
       "      <td>0</td>\n",
       "    </tr>\n",
       "    <tr>\n",
       "      <th>3465</th>\n",
       "      <td>0.255182</td>\n",
       "      <td>-0.267789</td>\n",
       "      <td>-0.034615</td>\n",
       "      <td>0</td>\n",
       "      <td>0</td>\n",
       "      <td>0</td>\n",
       "      <td>1</td>\n",
       "      <td>0</td>\n",
       "      <td>0</td>\n",
       "      <td>0</td>\n",
       "      <td>0</td>\n",
       "      <td>0</td>\n",
       "      <td>0</td>\n",
       "      <td>1</td>\n",
       "      <td>0</td>\n",
       "    </tr>\n",
       "    <tr>\n",
       "      <th>2755</th>\n",
       "      <td>-1.779193</td>\n",
       "      <td>-0.304412</td>\n",
       "      <td>-1.742227</td>\n",
       "      <td>1</td>\n",
       "      <td>0</td>\n",
       "      <td>0</td>\n",
       "      <td>0</td>\n",
       "      <td>0</td>\n",
       "      <td>0</td>\n",
       "      <td>0</td>\n",
       "      <td>1</td>\n",
       "      <td>1</td>\n",
       "      <td>0</td>\n",
       "      <td>0</td>\n",
       "      <td>0</td>\n",
       "    </tr>\n",
       "    <tr>\n",
       "      <th>6963</th>\n",
       "      <td>0.785889</td>\n",
       "      <td>0.354325</td>\n",
       "      <td>1.110121</td>\n",
       "      <td>1</td>\n",
       "      <td>1</td>\n",
       "      <td>1</td>\n",
       "      <td>1</td>\n",
       "      <td>0</td>\n",
       "      <td>1</td>\n",
       "      <td>0</td>\n",
       "      <td>0</td>\n",
       "      <td>1</td>\n",
       "      <td>0</td>\n",
       "      <td>0</td>\n",
       "      <td>1</td>\n",
       "    </tr>\n",
       "  </tbody>\n",
       "</table>\n",
       "</div>"
      ],
      "text/plain": [
       "           age  avg_glucose_level       bmi  gender_Male  hypertension_1  \\\n",
       "251  -1.558066           0.320893 -1.763829            0               0   \n",
       "4961  0.166731           0.214216  0.419048            1               0   \n",
       "3465  0.255182          -0.267789 -0.034615            0               0   \n",
       "2755 -1.779193          -0.304412 -1.742227            1               0   \n",
       "6963  0.785889           0.354325  1.110121            1               1   \n",
       "\n",
       "      heart_disease_1  ever_married_Yes  work_type_Never_worked  \\\n",
       "251                 0                 0                       0   \n",
       "4961                0                 1                       0   \n",
       "3465                0                 1                       0   \n",
       "2755                0                 0                       0   \n",
       "6963                1                 1                       0   \n",
       "\n",
       "      work_type_Private  work_type_Self-employed  work_type_children  \\\n",
       "251                   1                        0                   0   \n",
       "4961                  1                        0                   0   \n",
       "3465                  0                        0                   0   \n",
       "2755                  0                        0                   1   \n",
       "6963                  1                        0                   0   \n",
       "\n",
       "      Residence_type_Urban  smoking_status_formerly smoked  \\\n",
       "251                      1                               0   \n",
       "4961                     1                               0   \n",
       "3465                     0                               0   \n",
       "2755                     1                               0   \n",
       "6963                     1                               0   \n",
       "\n",
       "      smoking_status_never smoked  smoking_status_smokes  \n",
       "251                             0                      0  \n",
       "4961                            0                      0  \n",
       "3465                            1                      0  \n",
       "2755                            0                      0  \n",
       "6963                            0                      1  "
      ]
     },
     "execution_count": 28,
     "metadata": {},
     "output_type": "execute_result"
    }
   ],
   "source": [
    "#X_test.head()"
   ]
  },
  {
   "cell_type": "code",
   "execution_count": 29,
   "metadata": {
    "colab": {
     "base_uri": "https://localhost:8080/",
     "height": 456
    },
    "execution": {
     "iopub.execute_input": "2022-08-15T11:23:36.280988Z",
     "iopub.status.busy": "2022-08-15T11:23:36.279909Z",
     "iopub.status.idle": "2022-08-15T11:23:37.275912Z",
     "shell.execute_reply": "2022-08-15T11:23:37.275055Z",
     "shell.execute_reply.started": "2022-08-15T11:23:36.280938Z"
    },
    "id": "S25mq_AK19_D",
    "outputId": "69f60f89-cbb7-4673-9078-7662263b730e"
   },
   "outputs": [
    {
     "name": "stdout",
     "output_type": "stream",
     "text": [
      "Accuracy: 0.992798353909465\n",
      "Precission_score: 0.9857433808553971\n",
      "Recall_score: 1.0\n",
      "F1-score: 0.9928205128205128\n"
     ]
    }
   ],
   "source": [
    "rf = RandomForestClassifier(n_estimators= 100)\n",
    "rf.fit(X_train,y_train)\n",
    "y_pred_rf = rf.predict(X_test)\n",
    "y_pred_prob_rf = rf.predict_proba(X_test)[:, 1]\n",
    "\n",
    "\n",
    "print('Accuracy:', accuracy_score(y_test, y_pred_rf))\n",
    "print(f'Precission_score: {precision_score(y_test,y_pred_rf)}')\n",
    "print(f'Recall_score: {recall_score(y_test,y_pred_rf)}')\n",
    "print(f'F1-score: {f1_score(y_test,y_pred_rf)}')\n"
   ]
  },
  {
   "cell_type": "code",
   "execution_count": 30,
   "metadata": {},
   "outputs": [
    {
     "data": {
      "text/html": [
       "<div>\n",
       "<style scoped>\n",
       "    .dataframe tbody tr th:only-of-type {\n",
       "        vertical-align: middle;\n",
       "    }\n",
       "\n",
       "    .dataframe tbody tr th {\n",
       "        vertical-align: top;\n",
       "    }\n",
       "\n",
       "    .dataframe thead th {\n",
       "        text-align: right;\n",
       "    }\n",
       "</style>\n",
       "<table border=\"1\" class=\"dataframe\">\n",
       "  <thead>\n",
       "    <tr style=\"text-align: right;\">\n",
       "      <th></th>\n",
       "      <th>age</th>\n",
       "      <th>avg_glucose_level</th>\n",
       "      <th>bmi</th>\n",
       "      <th>gender_Male</th>\n",
       "      <th>hypertension_1</th>\n",
       "      <th>heart_disease_1</th>\n",
       "      <th>ever_married_Yes</th>\n",
       "      <th>work_type_Never_worked</th>\n",
       "      <th>work_type_Private</th>\n",
       "      <th>work_type_Self-employed</th>\n",
       "      <th>work_type_children</th>\n",
       "      <th>Residence_type_Urban</th>\n",
       "      <th>smoking_status_formerly smoked</th>\n",
       "      <th>smoking_status_never smoked</th>\n",
       "      <th>smoking_status_smokes</th>\n",
       "    </tr>\n",
       "  </thead>\n",
       "  <tbody>\n",
       "    <tr>\n",
       "      <th>251</th>\n",
       "      <td>-1.558066</td>\n",
       "      <td>0.320893</td>\n",
       "      <td>-1.763829</td>\n",
       "      <td>0</td>\n",
       "      <td>0</td>\n",
       "      <td>0</td>\n",
       "      <td>0</td>\n",
       "      <td>0</td>\n",
       "      <td>1</td>\n",
       "      <td>0</td>\n",
       "      <td>0</td>\n",
       "      <td>1</td>\n",
       "      <td>0</td>\n",
       "      <td>0</td>\n",
       "      <td>0</td>\n",
       "    </tr>\n",
       "    <tr>\n",
       "      <th>4961</th>\n",
       "      <td>0.166731</td>\n",
       "      <td>0.214216</td>\n",
       "      <td>0.419048</td>\n",
       "      <td>1</td>\n",
       "      <td>0</td>\n",
       "      <td>0</td>\n",
       "      <td>1</td>\n",
       "      <td>0</td>\n",
       "      <td>1</td>\n",
       "      <td>0</td>\n",
       "      <td>0</td>\n",
       "      <td>1</td>\n",
       "      <td>0</td>\n",
       "      <td>0</td>\n",
       "      <td>0</td>\n",
       "    </tr>\n",
       "    <tr>\n",
       "      <th>3465</th>\n",
       "      <td>0.255182</td>\n",
       "      <td>-0.267789</td>\n",
       "      <td>-0.034615</td>\n",
       "      <td>0</td>\n",
       "      <td>0</td>\n",
       "      <td>0</td>\n",
       "      <td>1</td>\n",
       "      <td>0</td>\n",
       "      <td>0</td>\n",
       "      <td>0</td>\n",
       "      <td>0</td>\n",
       "      <td>0</td>\n",
       "      <td>0</td>\n",
       "      <td>1</td>\n",
       "      <td>0</td>\n",
       "    </tr>\n",
       "    <tr>\n",
       "      <th>2755</th>\n",
       "      <td>-1.779193</td>\n",
       "      <td>-0.304412</td>\n",
       "      <td>-1.742227</td>\n",
       "      <td>1</td>\n",
       "      <td>0</td>\n",
       "      <td>0</td>\n",
       "      <td>0</td>\n",
       "      <td>0</td>\n",
       "      <td>0</td>\n",
       "      <td>0</td>\n",
       "      <td>1</td>\n",
       "      <td>1</td>\n",
       "      <td>0</td>\n",
       "      <td>0</td>\n",
       "      <td>0</td>\n",
       "    </tr>\n",
       "    <tr>\n",
       "      <th>6963</th>\n",
       "      <td>0.785889</td>\n",
       "      <td>0.354325</td>\n",
       "      <td>1.110121</td>\n",
       "      <td>1</td>\n",
       "      <td>1</td>\n",
       "      <td>1</td>\n",
       "      <td>1</td>\n",
       "      <td>0</td>\n",
       "      <td>1</td>\n",
       "      <td>0</td>\n",
       "      <td>0</td>\n",
       "      <td>1</td>\n",
       "      <td>0</td>\n",
       "      <td>0</td>\n",
       "      <td>1</td>\n",
       "    </tr>\n",
       "  </tbody>\n",
       "</table>\n",
       "</div>"
      ],
      "text/plain": [
       "           age  avg_glucose_level       bmi  gender_Male  hypertension_1  \\\n",
       "251  -1.558066           0.320893 -1.763829            0               0   \n",
       "4961  0.166731           0.214216  0.419048            1               0   \n",
       "3465  0.255182          -0.267789 -0.034615            0               0   \n",
       "2755 -1.779193          -0.304412 -1.742227            1               0   \n",
       "6963  0.785889           0.354325  1.110121            1               1   \n",
       "\n",
       "      heart_disease_1  ever_married_Yes  work_type_Never_worked  \\\n",
       "251                 0                 0                       0   \n",
       "4961                0                 1                       0   \n",
       "3465                0                 1                       0   \n",
       "2755                0                 0                       0   \n",
       "6963                1                 1                       0   \n",
       "\n",
       "      work_type_Private  work_type_Self-employed  work_type_children  \\\n",
       "251                   1                        0                   0   \n",
       "4961                  1                        0                   0   \n",
       "3465                  0                        0                   0   \n",
       "2755                  0                        0                   1   \n",
       "6963                  1                        0                   0   \n",
       "\n",
       "      Residence_type_Urban  smoking_status_formerly smoked  \\\n",
       "251                      1                               0   \n",
       "4961                     1                               0   \n",
       "3465                     0                               0   \n",
       "2755                     1                               0   \n",
       "6963                     1                               0   \n",
       "\n",
       "      smoking_status_never smoked  smoking_status_smokes  \n",
       "251                             0                      0  \n",
       "4961                            0                      0  \n",
       "3465                            1                      0  \n",
       "2755                            0                      0  \n",
       "6963                            0                      1  "
      ]
     },
     "execution_count": 30,
     "metadata": {},
     "output_type": "execute_result"
    }
   ],
   "source": [
    "#X_test.head()"
   ]
  },
  {
   "cell_type": "code",
   "execution_count": 32,
   "metadata": {},
   "outputs": [],
   "source": [
    "#import pickle\n",
    "#import joblib\n",
    "#filename = 'brain_stroke2.pkl'\n",
    "#joblib.dump(rf, filename)"
   ]
  },
  {
   "cell_type": "code",
   "execution_count": 69,
   "metadata": {},
   "outputs": [
    {
     "name": "stdout",
     "output_type": "stream",
     "text": [
      "[1]\n"
     ]
    }
   ],
   "source": [
    "#||||||||||||||||||||||||||||||||IMPORTANT|||||||||||||||||||||||||||||\n",
    "#||||||||||||||||||||||||||||||||||||||||||||||||||||||||||||||||||||||\n",
    "# dict = {\n",
    "#     'age' : 79,\n",
    "#     'avg_glucose_level' : 174.23,\n",
    "#     'bmi' : 24,\n",
    "#     'gender_Male' : 0,\n",
    "#     'hypertension_1' : 1,\n",
    "#     'heart_disease_1' : 0,\n",
    "#     'ever_married_Yes' : 1,\n",
    "#     'work_type_Never_worked' : 0,\n",
    "#     'work_type_Private' : 0,\n",
    "#     'work_type_Self-employed' : 1,\n",
    "#     'work_type_children' : 0,\n",
    "#     'Residence_type_Urban' : 0,\n",
    "#     'smoking_status_formerly smoked' : 0,\n",
    "#     'smoking_status_never smoked' : 1,\n",
    "#     'smoking_status_smokes' : 0\n",
    "\n",
    "# }\n",
    "\n",
    "# df = pd.DataFrame(dict, index=[0])\n",
    "# for col in ['avg_glucose_level', 'bmi']:\n",
    "#     df[col] = np.log(df[col])\n",
    "# mean_age = 43.226614\n",
    "# std_age = 22.612647\n",
    "# mean_glucose = 4.592465\n",
    "# std_glucose = 0.361985\n",
    "# mean_bmi = 3.328423\n",
    "# std_bmi = 0.265064\n",
    "# df['age'] = (df['age'] - mean_age)/(std_age)\n",
    "# df['avg_glucose_level'] = (df['avg_glucose_level'] - mean_glucose)/(std_glucose)\n",
    "# df['bmi'] = (df['bmi'] - mean_bmi)/(std_bmi)\n",
    "# y_pred = rf.predict(df)\n",
    "# print(y_pred)"
   ]
  },
  {
   "cell_type": "code",
   "execution_count": null,
   "metadata": {},
   "outputs": [],
   "source": []
  }
 ],
 "metadata": {
  "colab": {
   "provenance": []
  },
  "kernelspec": {
   "display_name": "Python 3 (ipykernel)",
   "language": "python",
   "name": "python3"
  },
  "language_info": {
   "codemirror_mode": {
    "name": "ipython",
    "version": 3
   },
   "file_extension": ".py",
   "mimetype": "text/x-python",
   "name": "python",
   "nbconvert_exporter": "python",
   "pygments_lexer": "ipython3",
   "version": "3.8.0"
  }
 },
 "nbformat": 4,
 "nbformat_minor": 1
}
